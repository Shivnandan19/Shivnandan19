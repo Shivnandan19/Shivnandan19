
Bank Churn Model
import libraries

import numpy as np
import pandas as pd
import matplotlib.pyplot as plt
import seaborn as sns
     
import data

df = pd.read_csv('https://raw.githubusercontent.com/YBI-Foundation/Dataset/main/Bank%20Churn%20Modelling.csv')
     

df.head()
     
CustomerId	Surname	CreditScore	Geography	Gender	Age	Tenure	Balance	Num Of Products	Has Credit Card	Is Active Member	Estimated Salary	Churn
0	15634602	Hargrave	619	France	Female	42	2	0.00	1	1	1	101348.88	1
1	15647311	Hill	608	Spain	Female	41	1	83807.86	1	0	1	112542.58	0
2	15619304	Onio	502	France	Female	42	8	159660.80	3	1	0	113931.57	1
3	15701354	Boni	699	France	Female	39	1	0.00	2	0	0	93826.63	0
4	15737888	Mitchell	850	Spain	Female	43	2	125510.82	1	1	1	79084.10	0

  df.info()
     
<class 'pandas.core.frame.DataFrame'>
RangeIndex: 10000 entries, 0 to 9999
Data columns (total 13 columns):
 #   Column            Non-Null Count  Dtype  
---  ------            --------------  -----  
 0   CustomerId        10000 non-null  int64  
 1   Surname           10000 non-null  object 
 2   CreditScore       10000 non-null  int64  
 3   Geography         10000 non-null  object 
 4   Gender            10000 non-null  object 
 5   Age               10000 non-null  int64  
 6   Tenure            10000 non-null  int64  
 7   Balance           10000 non-null  float64
 8   Num Of Products   10000 non-null  int64  
 9   Has Credit Card   10000 non-null  int64  
 10  Is Active Member  10000 non-null  int64  
 11  Estimated Salary  10000 non-null  float64
 12  Churn             10000 non-null  int64  
dtypes: float64(2), int64(8), object(3)
memory usage: 1015.8+ KB

df.duplicated('CustomerId').sum()
     
0

df = df.set_index('CustomerId')
     

df.info()
     
<class 'pandas.core.frame.DataFrame'>
Int64Index: 10000 entries, 15634602 to 15628319
Data columns (total 12 columns):
 #   Column            Non-Null Count  Dtype  
---  ------            --------------  -----  
 0   Surname           10000 non-null  object 
 1   CreditScore       10000 non-null  int64  
 2   Geography         10000 non-null  object 
 3   Gender            10000 non-null  object 
 4   Age               10000 non-null  int64  
 5   Tenure            10000 non-null  int64  
 6   Balance           10000 non-null  float64
 7   Num Of Products   10000 non-null  int64  
 8   Has Credit Card   10000 non-null  int64  
 9   Is Active Member  10000 non-null  int64  
 10  Estimated Salary  10000 non-null  float64
 11  Churn             10000 non-null  int64  
dtypes: float64(2), int64(7), object(3)
memory usage: 1015.6+ KB

df['Geography'].value_counts()
     
France     5014
Germany    2509
Spain      2477
Name: Geography, dtype: int64

df.replace({'Geography':{'France':2,'Germany':1,'Spain':0}}, inplace = True)
     

df['Gender'].value_counts()
     
Male      5457
Female    4543
Name: Gender, dtype: int64

df.replace({'Gender': {'Male':0,'Female':1}}, inplace=True)
     

df['Num Of Products'].value_counts()
     
1    5084
2    4590
3     266
4      60
Name: Num Of Products, dtype: int64

df.replace({'Num Of Products':{1:0,2:1,3:1,4:1}},inplace = True)
     

df['Has Credit Card'].value_counts()
     
1    7055
0    2945
Name: Has Credit Card, dtype: int64

df['Is Active Member'].value_counts()
     
1    5151
0    4849
Name: Is Active Member, dtype: int64

df.loc[(df['Balance']==0),'Churn'].value_counts()
     
0    3117
1     500
Name: Churn, dtype: int64

df['Zero Balamce ']=np.where(df['Balance']>0,1,0)
     

df['Zero Balamce '].hist()
     
<matplotlib.axes._subplots.AxesSubplot at 0x7f4cd8f469d0>



     

df.groupby(['Churn','Geography']).count()
     
Surname	CreditScore	Gender	Age	Tenure	Balance	Num Of Products	Has Credit Card	Is Active Member	Estimated Salary	Zero Balamce
Churn	Geography											
0	0	2064	2064	2064	2064	2064	2064	2064	2064	2064	2064	2064
1	1695	1695	1695	1695	1695	1695	1695	1695	1695	1695	1695
2	4204	4204	4204	4204	4204	4204	4204	4204	4204	4204	4204
1	0	413	413	413	413	413	413	413	413	413	413	413
1	814	814	814	814	814	814	814	814	814	814	814
2	810	810	810	810	810	810	810	810	810	810	810
define lable and features

df.columns
     
Index(['Surname', 'CreditScore', 'Geography', 'Gender', 'Age', 'Tenure',
       'Balance', 'Num Of Products', 'Has Credit Card', 'Is Active Member',
       'Estimated Salary', 'Churn', 'Zero Balamce '],
      dtype='object')

x = df.drop(['Surname','Churn'],axis = 1)
     

y = df['Churn']
     

x.shape,y.shape
     
((10000, 11), (10000,))
handelling imbalance data

df['Churn'].value_counts()
     
0    7963
1    2037
Name: Churn, dtype: int64

sns.countplot('Churn',data = df)
     
/usr/local/lib/python3.7/dist-packages/seaborn/_decorators.py:43: FutureWarning: Pass the following variable as a keyword arg: x. From version 0.12, the only valid positional argument will be `data`, and passing other arguments without an explicit keyword will result in an error or misinterpretation.
  FutureWarning
<matplotlib.axes._subplots.AxesSubplot at 0x7f4cd8ed04d0>


x.shape,y.shape
     
((10000, 11), (10000,))
Random Under Sampling

from imblearn.under_sampling import RandomUnderSampler
     

rus = RandomUnderSampler(random_state=222529)
     

x_rus,y_rus = rus.fit_resample(x,y)
     

x_rus.shape,y_rus.shape,x.shape,y.shape
     
((4074, 11), (4074,), (10000, 11), (10000,))

y.value_counts()
     
0    7963
1    2037
Name: Churn, dtype: int64

y_rus.value_counts()
     
0    2037
1    2037
Name: Churn, dtype: int64

y_rus.plot(kind='hist')
     
<matplotlib.axes._subplots.AxesSubplot at 0x7f4cd8f90a10>

Random Over Sampling

from imblearn.over_sampling import RandomOverSampler
     

ros = RandomOverSampler(random_state = 222529)
     

x_ros , y_ros = ros.fit_resample(x,y)
     

x_ros.shape,y_ros.shape,x.shape,y.shape
     
((15926, 11), (15926,), (10000, 11), (10000,))

y.value_counts()
     
0    7963
1    2037
Name: Churn, dtype: int64

y_ros.value_counts()
     
1    7963
0    7963
Name: Churn, dtype: int64

y_ros.plot(kind = 'hist')
     
<matplotlib.axes._subplots.AxesSubplot at 0x7f4cd8dc94d0>

train test split

from sklearn.model_selection import train_test_split
     

x_train, x_test, y_train,y_test=train_test_split(x,y, test_size=0.3,random_state=222529)
     

x_train_rus, x_test_rus, y_train_rus,y_test_rus=train_test_split(x_rus,y_rus, test_size=0.3,random_state=222529)
     

x_train_ros, x_test_ros, y_train_ros,y_test_ros=train_test_split(x_rus,y_rus, test_size=0.3,random_state=222529)
     

from sklearn.preprocessing import StandardScaler
sc=StandardScaler()
     

x_train[['CreditScore','Age','Tenure','Balance','Estimated Salary']]=sc.fit_transform(x_train[['CreditScore','Age','Tenure','Balance','Estimated Salary']])

     

x_test[['CreditScore','Age','Tenure','Balance','Estimated Salary']]=sc.fit_transform(x_test[['CreditScore','Age','Tenure','Balance','Estimated Salary']])

     

x_train_rus[['CreditScore','Age','Tenure','Balance','Estimated Salary']]=sc.fit_transform(x_train_rus[['CreditScore','Age','Tenure','Balance','Estimated Salary']])

     

x_test_rus[['CreditScore','Age','Tenure','Balance','Estimated Salary']]=sc.fit_transform(x_test_rus[['CreditScore','Age','Tenure','Balance','Estimated Salary']])

     

x_train_ros[['CreditScore','Age','Tenure','Balance','Estimated Salary']]=sc.fit_transform(x_train_ros[['CreditScore','Age','Tenure','Balance','Estimated Salary']])

     

x_test_ros[['CreditScore','Age','Tenure','Balance','Estimated Salary']]=sc.fit_transform(x_test_ros[['CreditScore','Age','Tenure','Balance','Estimated Salary']])

     

from sklearn.svm import SVC
     

svc=SVC()
     

svc.fit(x_train, y_train)
     
SVC()

y_pred=svc.predict(x_test)
     

from sklearn.metrics import confusion_matrix, classification_report
     

confusion_matrix(y_test, y_pred)
     
array([[2355,   54],
       [ 422,  169]])

print(classification_report(y_test, y_pred))
     
              precision    recall  f1-score   support

           0       0.85      0.98      0.91      2409
           1       0.76      0.29      0.42       591

    accuracy                           0.84      3000
   macro avg       0.80      0.63      0.66      3000
weighted avg       0.83      0.84      0.81      3000


svc_rus=SVC()
     

svc_rus.fit(x_train_rus, y_train_rus)
     
SVC()

y_pred_rus=svc_rus.predict(x_test_rus)
     

confusion_matrix(y_test_rus, y_pred_rus)
     
array([[454, 159],
       [185, 425]])

print(classification_report(y_test_rus, y_pred_rus))
     
              precision    recall  f1-score   support

           0       0.71      0.74      0.73       613
           1       0.73      0.70      0.71       610

    accuracy                           0.72      1223
   macro avg       0.72      0.72      0.72      1223
weighted avg       0.72      0.72      0.72      1223


svc_ros=SVC()
     

svc_ros.fit(x_train_ros, y_train_ros)
     
SVC()

y_pred_ros=svc_ros.predict(x_test_ros)
     

confusion_matrix(y_test_ros,y_pred_ros)
     
array([[454, 159],
       [185, 425]])

print(classification_report(y_test_ros,y_pred_ros))
     
              precision    recall  f1-score   support

           0       0.71      0.74      0.73       613
           1       0.73      0.70      0.71       610

    accuracy                           0.72      1223
   macro avg       0.72      0.72      0.72      1223
weighted avg       0.72      0.72      0.72      1223
